{
 "cells": [
  {
   "cell_type": "markdown",
   "id": "0f0d2c07",
   "metadata": {},
   "source": [
    "**Data Analysis of Maharashtra Assembly Election Result 2024**"
   ]
  },
  {
   "cell_type": "code",
   "execution_count": null,
   "id": "9532328e",
   "metadata": {},
   "outputs": [],
   "source": [
    "import pandas as pd\n",
    "import collections\n",
    "import matplotlib.pyplot as plt\n",
    "import plotly.graph_objects as go\n",
    "import seaborn as sns"
   ]
  },
  {
   "cell_type": "markdown",
   "id": "99ded4f0",
   "metadata": {},
   "source": [
    "The structure and contents of the election result dataset"
   ]
  },
  {
   "cell_type": "code",
   "execution_count": 503,
   "id": "16d9d206",
   "metadata": {},
   "outputs": [
    {
     "data": {
      "text/html": [
       "<div>\n",
       "<style scoped>\n",
       "    .dataframe tbody tr th:only-of-type {\n",
       "        vertical-align: middle;\n",
       "    }\n",
       "\n",
       "    .dataframe tbody tr th {\n",
       "        vertical-align: top;\n",
       "    }\n",
       "\n",
       "    .dataframe thead th {\n",
       "        text-align: right;\n",
       "    }\n",
       "</style>\n",
       "<table border=\"1\" class=\"dataframe\">\n",
       "  <thead>\n",
       "    <tr style=\"text-align: right;\">\n",
       "      <th></th>\n",
       "      <th>AC No</th>\n",
       "      <th>Sl no</th>\n",
       "      <th>EVM Votes</th>\n",
       "      <th>Postal Votes</th>\n",
       "      <th>Total Votes</th>\n",
       "      <th>Vote Share (%)</th>\n",
       "    </tr>\n",
       "  </thead>\n",
       "  <tbody>\n",
       "    <tr>\n",
       "      <th>count</th>\n",
       "      <td>4424.000000</td>\n",
       "      <td>4424.000000</td>\n",
       "      <td>4424.000000</td>\n",
       "      <td>4424.000000</td>\n",
       "      <td>4424.000000</td>\n",
       "      <td>4424.000000</td>\n",
       "    </tr>\n",
       "    <tr>\n",
       "      <th>mean</th>\n",
       "      <td>140.219033</td>\n",
       "      <td>9.187839</td>\n",
       "      <td>14478.816230</td>\n",
       "      <td>121.660262</td>\n",
       "      <td>14600.476492</td>\n",
       "      <td>6.509916</td>\n",
       "    </tr>\n",
       "    <tr>\n",
       "      <th>std</th>\n",
       "      <td>82.337173</td>\n",
       "      <td>6.085659</td>\n",
       "      <td>34110.425249</td>\n",
       "      <td>314.603824</td>\n",
       "      <td>34386.008759</td>\n",
       "      <td>15.025386</td>\n",
       "    </tr>\n",
       "    <tr>\n",
       "      <th>min</th>\n",
       "      <td>1.000000</td>\n",
       "      <td>1.000000</td>\n",
       "      <td>26.000000</td>\n",
       "      <td>0.000000</td>\n",
       "      <td>26.000000</td>\n",
       "      <td>0.010000</td>\n",
       "    </tr>\n",
       "    <tr>\n",
       "      <th>25%</th>\n",
       "      <td>68.000000</td>\n",
       "      <td>4.000000</td>\n",
       "      <td>231.000000</td>\n",
       "      <td>1.000000</td>\n",
       "      <td>233.000000</td>\n",
       "      <td>0.110000</td>\n",
       "    </tr>\n",
       "    <tr>\n",
       "      <th>50%</th>\n",
       "      <td>135.000000</td>\n",
       "      <td>8.000000</td>\n",
       "      <td>630.500000</td>\n",
       "      <td>4.000000</td>\n",
       "      <td>635.500000</td>\n",
       "      <td>0.280000</td>\n",
       "    </tr>\n",
       "    <tr>\n",
       "      <th>75%</th>\n",
       "      <td>215.000000</td>\n",
       "      <td>13.000000</td>\n",
       "      <td>2451.000000</td>\n",
       "      <td>22.000000</td>\n",
       "      <td>2462.250000</td>\n",
       "      <td>1.120000</td>\n",
       "    </tr>\n",
       "    <tr>\n",
       "      <th>max</th>\n",
       "      <td>288.000000</td>\n",
       "      <td>35.000000</td>\n",
       "      <td>234678.000000</td>\n",
       "      <td>2645.000000</td>\n",
       "      <td>235323.000000</td>\n",
       "      <td>80.360000</td>\n",
       "    </tr>\n",
       "  </tbody>\n",
       "</table>\n",
       "</div>"
      ],
      "text/plain": [
       "             AC No        Sl no      EVM Votes  Postal Votes    Total Votes  \\\n",
       "count  4424.000000  4424.000000    4424.000000   4424.000000    4424.000000   \n",
       "mean    140.219033     9.187839   14478.816230    121.660262   14600.476492   \n",
       "std      82.337173     6.085659   34110.425249    314.603824   34386.008759   \n",
       "min       1.000000     1.000000      26.000000      0.000000      26.000000   \n",
       "25%      68.000000     4.000000     231.000000      1.000000     233.000000   \n",
       "50%     135.000000     8.000000     630.500000      4.000000     635.500000   \n",
       "75%     215.000000    13.000000    2451.000000     22.000000    2462.250000   \n",
       "max     288.000000    35.000000  234678.000000   2645.000000  235323.000000   \n",
       "\n",
       "       Vote Share (%)  \n",
       "count     4424.000000  \n",
       "mean         6.509916  \n",
       "std         15.025386  \n",
       "min          0.010000  \n",
       "25%          0.110000  \n",
       "50%          0.280000  \n",
       "75%          1.120000  \n",
       "max         80.360000  "
      ]
     },
     "execution_count": 503,
     "metadata": {},
     "output_type": "execute_result"
    }
   ],
   "source": [
    "df = pd.read_csv(\"maha_results_2024.csv\")\n",
    "df.describe()"
   ]
  },
  {
   "cell_type": "code",
   "execution_count": 504,
   "id": "c1a1e407",
   "metadata": {},
   "outputs": [
    {
     "name": "stdout",
     "output_type": "stream",
     "text": [
      "<class 'pandas.core.frame.DataFrame'>\n",
      "RangeIndex: 4424 entries, 0 to 4423\n",
      "Data columns (total 9 columns):\n",
      " #   Column          Non-Null Count  Dtype  \n",
      "---  ------          --------------  -----  \n",
      " 0   AC No           4424 non-null   int64  \n",
      " 1   AC Name         4424 non-null   object \n",
      " 2   Sl no           4424 non-null   int64  \n",
      " 3   Candidate       4424 non-null   object \n",
      " 4   Party           4424 non-null   object \n",
      " 5   EVM Votes       4424 non-null   int64  \n",
      " 6   Postal Votes    4424 non-null   int64  \n",
      " 7   Total Votes     4424 non-null   int64  \n",
      " 8   Vote Share (%)  4424 non-null   float64\n",
      "dtypes: float64(1), int64(5), object(3)\n",
      "memory usage: 311.2+ KB\n"
     ]
    }
   ],
   "source": [
    "df.info()"
   ]
  },
  {
   "cell_type": "code",
   "execution_count": 505,
   "id": "ca583ef7",
   "metadata": {},
   "outputs": [
    {
     "data": {
      "text/html": [
       "<div>\n",
       "<style scoped>\n",
       "    .dataframe tbody tr th:only-of-type {\n",
       "        vertical-align: middle;\n",
       "    }\n",
       "\n",
       "    .dataframe tbody tr th {\n",
       "        vertical-align: top;\n",
       "    }\n",
       "\n",
       "    .dataframe thead th {\n",
       "        text-align: right;\n",
       "    }\n",
       "</style>\n",
       "<table border=\"1\" class=\"dataframe\">\n",
       "  <thead>\n",
       "    <tr style=\"text-align: right;\">\n",
       "      <th></th>\n",
       "      <th>AC No</th>\n",
       "      <th>AC Name</th>\n",
       "      <th>Sl no</th>\n",
       "      <th>Candidate</th>\n",
       "      <th>Party</th>\n",
       "      <th>EVM Votes</th>\n",
       "      <th>Postal Votes</th>\n",
       "      <th>Total Votes</th>\n",
       "      <th>Vote Share (%)</th>\n",
       "    </tr>\n",
       "  </thead>\n",
       "  <tbody>\n",
       "    <tr>\n",
       "      <th>0</th>\n",
       "      <td>1</td>\n",
       "      <td>AKKALKUWA</td>\n",
       "      <td>1</td>\n",
       "      <td>AMSHYA FULJI PADVI</td>\n",
       "      <td>Shiv Sena</td>\n",
       "      <td>72411</td>\n",
       "      <td>218</td>\n",
       "      <td>72629</td>\n",
       "      <td>31.55</td>\n",
       "    </tr>\n",
       "    <tr>\n",
       "      <th>1</th>\n",
       "      <td>1</td>\n",
       "      <td>AKKALKUWA</td>\n",
       "      <td>2</td>\n",
       "      <td>ADV K C PADAVI</td>\n",
       "      <td>Indian National Congress</td>\n",
       "      <td>69122</td>\n",
       "      <td>603</td>\n",
       "      <td>69725</td>\n",
       "      <td>30.29</td>\n",
       "    </tr>\n",
       "    <tr>\n",
       "      <th>2</th>\n",
       "      <td>1</td>\n",
       "      <td>AKKALKUWA</td>\n",
       "      <td>3</td>\n",
       "      <td>PADMAKAR VIJAYSING VALVI</td>\n",
       "      <td>Bharat Adivasi Party</td>\n",
       "      <td>8640</td>\n",
       "      <td>192</td>\n",
       "      <td>8832</td>\n",
       "      <td>3.84</td>\n",
       "    </tr>\n",
       "    <tr>\n",
       "      <th>3</th>\n",
       "      <td>1</td>\n",
       "      <td>AKKALKUWA</td>\n",
       "      <td>4</td>\n",
       "      <td>ENG. JELSING BIJALA PAWARA</td>\n",
       "      <td>Independent</td>\n",
       "      <td>2895</td>\n",
       "      <td>16</td>\n",
       "      <td>2911</td>\n",
       "      <td>1.26</td>\n",
       "    </tr>\n",
       "    <tr>\n",
       "      <th>4</th>\n",
       "      <td>1</td>\n",
       "      <td>AKKALKUWA</td>\n",
       "      <td>5</td>\n",
       "      <td>SARYA DHARMA PADVI</td>\n",
       "      <td>Independent</td>\n",
       "      <td>1466</td>\n",
       "      <td>7</td>\n",
       "      <td>1473</td>\n",
       "      <td>0.64</td>\n",
       "    </tr>\n",
       "  </tbody>\n",
       "</table>\n",
       "</div>"
      ],
      "text/plain": [
       "   AC No    AC Name  Sl no                   Candidate  \\\n",
       "0      1  AKKALKUWA      1          AMSHYA FULJI PADVI   \n",
       "1      1  AKKALKUWA      2              ADV K C PADAVI   \n",
       "2      1  AKKALKUWA      3    PADMAKAR VIJAYSING VALVI   \n",
       "3      1  AKKALKUWA      4  ENG. JELSING BIJALA PAWARA   \n",
       "4      1  AKKALKUWA      5          SARYA DHARMA PADVI   \n",
       "\n",
       "                      Party  EVM Votes  Postal Votes  Total Votes  \\\n",
       "0                 Shiv Sena      72411           218        72629   \n",
       "1  Indian National Congress      69122           603        69725   \n",
       "2      Bharat Adivasi Party       8640           192         8832   \n",
       "3               Independent       2895            16         2911   \n",
       "4               Independent       1466             7         1473   \n",
       "\n",
       "   Vote Share (%)  \n",
       "0           31.55  \n",
       "1           30.29  \n",
       "2            3.84  \n",
       "3            1.26  \n",
       "4            0.64  "
      ]
     },
     "execution_count": 505,
     "metadata": {},
     "output_type": "execute_result"
    }
   ],
   "source": [
    "df.head()"
   ]
  },
  {
   "cell_type": "markdown",
   "id": "ea431fcc",
   "metadata": {},
   "source": [
    "**Univariate Analysis** - Which party has the most contesting candidates."
   ]
  },
  {
   "cell_type": "code",
   "execution_count": 646,
   "id": "3135e729",
   "metadata": {},
   "outputs": [
    {
     "data": {
      "text/plain": [
       "{'Independent': 2086,\n",
       " 'None of the Above': 288,\n",
       " 'Bahujan Samaj Party': 237,\n",
       " 'Vanchit Bahujan  Aaghadi': 200,\n",
       " 'Bharatiya Janata Party': 149,\n",
       " 'Maharashtra Navnirman sena': 125,\n",
       " 'Indian National Congress': 101,\n",
       " 'Shiv Sena (Uddhav Balasaheb Thackeray)': 95,\n",
       " 'Rashtriya Samaj Paksha': 93,\n",
       " 'Nationalist Congress Party- Sharadchandra Pawar': 86,\n",
       " 'Shiv Sena': 81,\n",
       " 'Nationalist Congress Party': 59,\n",
       " 'Peoples Party of India (Democratic)': 44,\n",
       " 'Prahar Janshakti Party': 38,\n",
       " 'Maharashtra Swarajya party': 32,\n",
       " 'Republican Party of India (A)': 31,\n",
       " 'Aazad Samaj Party (Kanshi Ram)': 28,\n",
       " 'Bahujan Republican  Socialist Party': 22,\n",
       " 'Republican Sena': 21,\n",
       " 'Swabhimani Paksha': 19,\n",
       " 'Sambhaji Brigade Party': 19,\n",
       " 'Peasants And Workers Party of India': 18,\n",
       " 'Right to Recall Party': 18,\n",
       " 'Janhit Lokshahi Party': 18,\n",
       " 'All India Majlis-E-Ittehadul Muslimeen': 17,\n",
       " 'All India Majlis-E-Inquilab-E-Millat': 16,\n",
       " 'All India Forward Bloc': 16,\n",
       " 'Rashtriya Swarajya Sena': 15,\n",
       " 'Bhim Sena': 14,\n",
       " 'Jan Janwadi Party': 13,\n",
       " 'Nirbhay Maharashtra Party': 12,\n",
       " 'Bharatiya Yuva Jan Ekta Party': 12,\n",
       " 'Bahujan Maha Party': 11,\n",
       " 'Vikas India Party': 11,\n",
       " 'Desh Janhit Party': 11,\n",
       " 'Lokrajya Party': 10,\n",
       " 'Samata Party': 9,\n",
       " 'Bahujan Bharat Party': 9,\n",
       " 'Social Democratic Party Of India': 9,\n",
       " 'Rashtriya Maratha Party': 9,\n",
       " 'Samajwadi Party': 9,\n",
       " 'Hindustan Janta Party': 9,\n",
       " 'Jai Hind Jai Bharat Rashtriya Party': 9,\n",
       " 'Bahujan Vikas Aaghadi': 8,\n",
       " 'Sardar Vallabhbhai Patel Party': 8,\n",
       " 'Bharat Adivasi Party': 8,\n",
       " 'Gondvana Gantantra Party': 8,\n",
       " 'Sainik Samaj Party': 8,\n",
       " 'Rashtriya Ulama Council': 7,\n",
       " 'Peace Party': 7,\n",
       " 'Hindu Samaj Party': 7,\n",
       " 'Republican Paksha (Khoripa)': 6,\n",
       " 'Bhartiya Jan Samrat Party': 6,\n",
       " 'Maharashtra Vikas Aghadi': 6,\n",
       " 'Swarajya Shakti Sena': 6,\n",
       " 'Minorities Democratic Party': 6,\n",
       " 'All India Hindustan Congress Party': 6,\n",
       " 'Jan Surajya Shakti': 6,\n",
       " 'Jay Vidarbha Party': 5,\n",
       " 'Ambedkarite Party of India': 5,\n",
       " 'Bahujan Samaj Party  (Ambedkar)': 5,\n",
       " 'Bhartiya Tribal Party': 5,\n",
       " 'Marathwada Mukti Morcha': 4,\n",
       " 'Baliraja Party': 4,\n",
       " 'Viduthalai Chiruthaigal Katchi': 4,\n",
       " 'Sampoorna Bharat Kranti Party': 4,\n",
       " 'Rashtriya Gondvana Party': 4,\n",
       " 'Sanay Chatrapati Shasan': 4,\n",
       " 'Janata Dal  (Secular)': 4,\n",
       " 'Aim Political Party': 4,\n",
       " 'Indian National League': 4,\n",
       " 'Communist Party of India  (Marxist)': 3,\n",
       " 'Revolutionary Marxist Party of India': 3,\n",
       " 'Jai Sewalal Bahujan Vikas Party': 3,\n",
       " 'Aapki Apni Party (Peoples)': 3,\n",
       " 'New Rashtriya Samaj Party': 3,\n",
       " 'Blue India Party': 3,\n",
       " 'Buland Bharat Party': 3,\n",
       " 'Rashtriya Janmanch (Secular)': 3,\n",
       " 'Swatantra Bharat Paksha': 3,\n",
       " 'Socialist Unity Centre Of India (COMMUNIST)': 3,\n",
       " 'Lok Swarajya Party': 3,\n",
       " 'Apni Prajahit Party': 2,\n",
       " 'Uttar Bhartiya Vikas Sena': 2,\n",
       " 'Rashtra Samarpan Party': 2,\n",
       " 'Bharatheeya Jawan Kisan Party': 2,\n",
       " 'Yelgar Party': 2,\n",
       " 'Janata Congress': 2,\n",
       " 'Tipu Sultan Party': 2,\n",
       " 'Hindrashtra Sangh': 2,\n",
       " 'Republican Party of India (Khobragade)': 2,\n",
       " 'Rashtriya Yuva Swabhiman Party': 2,\n",
       " 'Indian Political Congress Party': 2,\n",
       " 'Ambedkarist Republican Party': 2,\n",
       " 'Naki Bharatiya Ekta Party': 2,\n",
       " 'Maharashtra Rajya Samiti': 2,\n",
       " 'Republican Bahujan Sena': 2,\n",
       " 'Bhartiya Navjawan Sena (Paksha)': 2,\n",
       " 'Indian Union Muslim League': 2,\n",
       " 'Republican Party of India  (Democratic )': 2,\n",
       " 'Akhil Bharatiya Muslim League (Secular)': 2,\n",
       " 'Communist Party of India': 2,\n",
       " 'Akhil Bhartiya Parivar Party': 2,\n",
       " 'Swarajya Rashtra Nirman Sena': 2,\n",
       " 'Abhinav Bharat Janseva Paksh': 2,\n",
       " 'Insaniyat Party': 2,\n",
       " 'Delhi Janta Party': 2,\n",
       " 'Rashtriya Balmiki Sena Paksha': 1,\n",
       " 'Dalit Soshit Pichhara Varg  Adhikar Dal': 1,\n",
       " 'Bharatiya Praja Surajya Paksha': 1,\n",
       " 'Swarajya Nirman Sena': 1,\n",
       " 'Bhartiya Dharmanirpeksha Party': 1,\n",
       " 'Janseva Gondwana Party': 1,\n",
       " 'Bharat Jodo Party': 1,\n",
       " 'Akhil Bhartiya Ekata Party': 1,\n",
       " 'Jantantrik Samta Party': 1,\n",
       " 'Kamgaar Kisan Party': 1,\n",
       " 'Lokrajya Janata Party': 1,\n",
       " 'Swarajya Sena (Maharashtra)': 1,\n",
       " 'Akhil Bharatiya Sena': 1,\n",
       " 'Maharashtra Lokhitwadi Party': 1,\n",
       " 'Bharatiya Congress  Paksha': 1,\n",
       " 'Rashtriya Samaj Dal (R)': 1,\n",
       " 'Netaji Congress Sena': 1,\n",
       " 'Bhartiya Jan Vikas Aaghadi': 1,\n",
       " 'Aadarsh Sangram Party': 1,\n",
       " 'Bhartiya Asmita Party': 1,\n",
       " 'Abhinav Bharat Party': 1,\n",
       " 'Lokshahi Party': 1,\n",
       " 'Bharatiya Lokvikas Party': 1,\n",
       " 'Hindustan Jansewa Paksh': 1,\n",
       " 'Bhartiya Mahasangh Party': 1,\n",
       " 'Digital Organization of Nation Party': 1,\n",
       " 'Lokmudra Janhit Party': 1,\n",
       " 'All Indian Republican Party': 1,\n",
       " 'Sanman Rajkiya Paksha': 1,\n",
       " 'Hamar Raj Party': 1,\n",
       " 'All India National Raksha Sena': 1,\n",
       " 'Mera Adhikaar Rashtriya Dal': 1,\n",
       " 'Akhand Hind Party': 1,\n",
       " 'Kunbi Bahujan Sawrajya Party': 1,\n",
       " 'Bhartiya Veer Kisan Party': 1,\n",
       " 'Republican Party of India (Reformist)': 1,\n",
       " 'Indian Secular Largest Assembly of Maharashtra': 1,\n",
       " 'National World Leader Party': 1,\n",
       " 'Dhanwan Bharat Party': 1,\n",
       " 'Open people’s Party': 1,\n",
       " 'Marxist Leninist Party of India (Red Flag)': 1,\n",
       " 'Changemakers Party': 1,\n",
       " 'Nagrik Vikas Party': 1,\n",
       " 'Sangharsh Sena': 1,\n",
       " 'Samnak Janta Party': 1,\n",
       " 'People’s Union Party': 1,\n",
       " 'Socialist Party (India)': 1,\n",
       " 'Bharat Jan Aadhar Party': 1,\n",
       " 'Azad Samaj Party': 1,\n",
       " 'Lokataantrik Janaadhaar Party': 1,\n",
       " 'Veer Janshakti Party': 1,\n",
       " 'Lokshahi Ekta Party': 1,\n",
       " 'Rajarshi Shahu Vikas Aghadi': 1}"
      ]
     },
     "execution_count": 646,
     "metadata": {},
     "output_type": "execute_result"
    }
   ],
   "source": [
    "dict(df[\"Party\"].value_counts())"
   ]
  },
  {
   "cell_type": "code",
   "execution_count": 647,
   "id": "889974e2",
   "metadata": {},
   "outputs": [
    {
     "data": {
      "text/html": [
       "<div>\n",
       "<style scoped>\n",
       "    .dataframe tbody tr th:only-of-type {\n",
       "        vertical-align: middle;\n",
       "    }\n",
       "\n",
       "    .dataframe tbody tr th {\n",
       "        vertical-align: top;\n",
       "    }\n",
       "\n",
       "    .dataframe thead th {\n",
       "        text-align: right;\n",
       "    }\n",
       "</style>\n",
       "<table border=\"1\" class=\"dataframe\">\n",
       "  <thead>\n",
       "    <tr style=\"text-align: right;\">\n",
       "      <th></th>\n",
       "      <th>AC No</th>\n",
       "      <th>AC Name</th>\n",
       "      <th>Sl no</th>\n",
       "      <th>Candidate</th>\n",
       "      <th>Party</th>\n",
       "      <th>EVM Votes</th>\n",
       "      <th>Postal Votes</th>\n",
       "      <th>Total Votes</th>\n",
       "      <th>Vote Share (%)</th>\n",
       "    </tr>\n",
       "  </thead>\n",
       "  <tbody>\n",
       "    <tr>\n",
       "      <th>0</th>\n",
       "      <td>1</td>\n",
       "      <td>AKKALKUWA</td>\n",
       "      <td>1</td>\n",
       "      <td>AMSHYA FULJI PADVI</td>\n",
       "      <td>Shiv Sena</td>\n",
       "      <td>72411</td>\n",
       "      <td>218</td>\n",
       "      <td>72629</td>\n",
       "      <td>31.55</td>\n",
       "    </tr>\n",
       "    <tr>\n",
       "      <th>1</th>\n",
       "      <td>1</td>\n",
       "      <td>AKKALKUWA</td>\n",
       "      <td>2</td>\n",
       "      <td>ADV K C PADAVI</td>\n",
       "      <td>Indian National Congress</td>\n",
       "      <td>69122</td>\n",
       "      <td>603</td>\n",
       "      <td>69725</td>\n",
       "      <td>30.29</td>\n",
       "    </tr>\n",
       "    <tr>\n",
       "      <th>8</th>\n",
       "      <td>2</td>\n",
       "      <td>SHAHADA</td>\n",
       "      <td>1</td>\n",
       "      <td>RAJESH UDESING PADVI</td>\n",
       "      <td>Bharatiya Janata Party</td>\n",
       "      <td>145660</td>\n",
       "      <td>1179</td>\n",
       "      <td>146839</td>\n",
       "      <td>59.86</td>\n",
       "    </tr>\n",
       "    <tr>\n",
       "      <th>9</th>\n",
       "      <td>2</td>\n",
       "      <td>SHAHADA</td>\n",
       "      <td>2</td>\n",
       "      <td>RAJENDRAKUMAR KRISHNARAO GAVIT</td>\n",
       "      <td>Indian National Congress</td>\n",
       "      <td>92917</td>\n",
       "      <td>718</td>\n",
       "      <td>93635</td>\n",
       "      <td>38.17</td>\n",
       "    </tr>\n",
       "    <tr>\n",
       "      <th>12</th>\n",
       "      <td>3</td>\n",
       "      <td>NANDURBAR</td>\n",
       "      <td>1</td>\n",
       "      <td>ENGG.KIRAN DAMODAR TADAVI</td>\n",
       "      <td>Indian National Congress</td>\n",
       "      <td>77740</td>\n",
       "      <td>1203</td>\n",
       "      <td>78943</td>\n",
       "      <td>32.87</td>\n",
       "    </tr>\n",
       "    <tr>\n",
       "      <th>...</th>\n",
       "      <td>...</td>\n",
       "      <td>...</td>\n",
       "      <td>...</td>\n",
       "      <td>...</td>\n",
       "      <td>...</td>\n",
       "      <td>...</td>\n",
       "      <td>...</td>\n",
       "      <td>...</td>\n",
       "      <td>...</td>\n",
       "    </tr>\n",
       "    <tr>\n",
       "      <th>4382</th>\n",
       "      <td>286</td>\n",
       "      <td>KHANAPUR</td>\n",
       "      <td>4</td>\n",
       "      <td>VAIBHAVDADA SADASHIVRAO PATIL</td>\n",
       "      <td>Nationalist Congress Party- Sharadchandra Pawar</td>\n",
       "      <td>75071</td>\n",
       "      <td>640</td>\n",
       "      <td>75711</td>\n",
       "      <td>30.08</td>\n",
       "    </tr>\n",
       "    <tr>\n",
       "      <th>4394</th>\n",
       "      <td>287</td>\n",
       "      <td>TASGAON - KAVATHE MAHANKAL</td>\n",
       "      <td>1</td>\n",
       "      <td>ROHIT SUMAN R.R. ABA PATIL</td>\n",
       "      <td>Nationalist Congress Party- Sharadchandra Pawar</td>\n",
       "      <td>126478</td>\n",
       "      <td>1925</td>\n",
       "      <td>128403</td>\n",
       "      <td>54.09</td>\n",
       "    </tr>\n",
       "    <tr>\n",
       "      <th>4397</th>\n",
       "      <td>287</td>\n",
       "      <td>TASGAON - KAVATHE MAHANKAL</td>\n",
       "      <td>4</td>\n",
       "      <td>SANJAYKAKA PATIL</td>\n",
       "      <td>Nationalist Congress Party</td>\n",
       "      <td>99901</td>\n",
       "      <td>858</td>\n",
       "      <td>100759</td>\n",
       "      <td>42.45</td>\n",
       "    </tr>\n",
       "    <tr>\n",
       "      <th>4412</th>\n",
       "      <td>288</td>\n",
       "      <td>JAT</td>\n",
       "      <td>1</td>\n",
       "      <td>GOPICHAND KUNDLIK PADALKAR</td>\n",
       "      <td>Bharatiya Janata Party</td>\n",
       "      <td>112746</td>\n",
       "      <td>991</td>\n",
       "      <td>113737</td>\n",
       "      <td>53.39</td>\n",
       "    </tr>\n",
       "    <tr>\n",
       "      <th>4414</th>\n",
       "      <td>288</td>\n",
       "      <td>JAT</td>\n",
       "      <td>3</td>\n",
       "      <td>VIKRAMSINH BALASO SAWANT</td>\n",
       "      <td>Indian National Congress</td>\n",
       "      <td>74549</td>\n",
       "      <td>948</td>\n",
       "      <td>75497</td>\n",
       "      <td>35.44</td>\n",
       "    </tr>\n",
       "  </tbody>\n",
       "</table>\n",
       "<p>571 rows × 9 columns</p>\n",
       "</div>"
      ],
      "text/plain": [
       "      AC No                     AC Name  Sl no  \\\n",
       "0         1                   AKKALKUWA      1   \n",
       "1         1                   AKKALKUWA      2   \n",
       "8         2                     SHAHADA      1   \n",
       "9         2                     SHAHADA      2   \n",
       "12        3                   NANDURBAR      1   \n",
       "...     ...                         ...    ...   \n",
       "4382    286                    KHANAPUR      4   \n",
       "4394    287  TASGAON - KAVATHE MAHANKAL      1   \n",
       "4397    287  TASGAON - KAVATHE MAHANKAL      4   \n",
       "4412    288                         JAT      1   \n",
       "4414    288                         JAT      3   \n",
       "\n",
       "                           Candidate  \\\n",
       "0                 AMSHYA FULJI PADVI   \n",
       "1                     ADV K C PADAVI   \n",
       "8               RAJESH UDESING PADVI   \n",
       "9     RAJENDRAKUMAR KRISHNARAO GAVIT   \n",
       "12         ENGG.KIRAN DAMODAR TADAVI   \n",
       "...                              ...   \n",
       "4382   VAIBHAVDADA SADASHIVRAO PATIL   \n",
       "4394      ROHIT SUMAN R.R. ABA PATIL   \n",
       "4397                SANJAYKAKA PATIL   \n",
       "4412      GOPICHAND KUNDLIK PADALKAR   \n",
       "4414        VIKRAMSINH BALASO SAWANT   \n",
       "\n",
       "                                                Party  EVM Votes  \\\n",
       "0                                           Shiv Sena      72411   \n",
       "1                            Indian National Congress      69122   \n",
       "8                              Bharatiya Janata Party     145660   \n",
       "9                            Indian National Congress      92917   \n",
       "12                           Indian National Congress      77740   \n",
       "...                                               ...        ...   \n",
       "4382  Nationalist Congress Party- Sharadchandra Pawar      75071   \n",
       "4394  Nationalist Congress Party- Sharadchandra Pawar     126478   \n",
       "4397                       Nationalist Congress Party      99901   \n",
       "4412                           Bharatiya Janata Party     112746   \n",
       "4414                         Indian National Congress      74549   \n",
       "\n",
       "      Postal Votes  Total Votes  Vote Share (%)  \n",
       "0              218        72629           31.55  \n",
       "1              603        69725           30.29  \n",
       "8             1179       146839           59.86  \n",
       "9              718        93635           38.17  \n",
       "12            1203        78943           32.87  \n",
       "...            ...          ...             ...  \n",
       "4382           640        75711           30.08  \n",
       "4394          1925       128403           54.09  \n",
       "4397           858       100759           42.45  \n",
       "4412           991       113737           53.39  \n",
       "4414           948        75497           35.44  \n",
       "\n",
       "[571 rows x 9 columns]"
      ]
     },
     "execution_count": 647,
     "metadata": {},
     "output_type": "execute_result"
    }
   ],
   "source": [
    "parties_to_include = ['Bharatiya Janata Party', 'Shiv Sena', 'Nationalist Congress Party', \n",
    "                      'Shiv Sena (Uddhav Balasaheb Thackeray)',\n",
    "                     'Indian National Congress',\n",
    "                     'Nationalist Congress Party- Sharadchandra Pawar']\n",
    "\n",
    "major_parties_df = df[df['Party'].isin(parties_to_include)]\n",
    "major_parties_df"
   ]
  },
  {
   "cell_type": "code",
   "execution_count": 651,
   "id": "14d099f0",
   "metadata": {},
   "outputs": [
    {
     "data": {
      "text/plain": [
       "{'Bharatiya Janata Party': 132,\n",
       " 'Shiv Sena': 57,\n",
       " 'Nationalist Congress Party': 41,\n",
       " 'Shiv Sena (Uddhav Balasaheb Thackeray)': 20,\n",
       " 'Indian National Congress': 16,\n",
       " 'Nationalist Congress Party- Sharadchandra Pawar': 10,\n",
       " 'Samajwadi Party': 2,\n",
       " 'Independent': 2,\n",
       " 'Jan Surajya Shakti': 2,\n",
       " 'Rashtriya Yuva Swabhiman Party': 1,\n",
       " 'Rashtriya Samaj Paksha': 1,\n",
       " 'All India Majlis-E-Ittehadul Muslimeen': 1,\n",
       " 'Communist Party of India  (Marxist)': 1,\n",
       " 'Peasants And Workers Party of India': 1,\n",
       " 'Rajarshi Shahu Vikas Aghadi': 1}"
      ]
     },
     "execution_count": 651,
     "metadata": {},
     "output_type": "execute_result"
    }
   ],
   "source": [
    "def get_winner_candidate_party_count(df): \n",
    "    # Group by 'AC No' and find the index of the max 'Vote Share (%)' for each group\n",
    "    # This will return the index of the maximum 'Vote Share (%)' in each constituency (AC No)\n",
    "    max_indices = df.groupby('AC No')['Vote Share (%)'].idxmax()\n",
    "    party_list = []\n",
    "    # Iterate over the resulting indices and increment the party count\n",
    "    for idx in max_indices:\n",
    "        party = df.loc[idx, 'Party']\n",
    "        party_list.append(party)\n",
    "\n",
    "    element_count = collections.Counter(party_list)\n",
    "    party_list = {}\n",
    "    for party, count in element_count.items():\n",
    "        party_list.update({party : count})\n",
    "    \n",
    "    sorted_party_votes_desc = dict(sorted(party_list.items(), key=lambda item: item[1], reverse=True))\n",
    "    return sorted_party_votes_desc\n",
    "get_winner_candidate_party_count(df)"
   ]
  },
  {
   "cell_type": "code",
   "execution_count": 649,
   "id": "ddaf8608",
   "metadata": {},
   "outputs": [
    {
     "data": {
      "text/plain": [
       "{'Bharatiya Janata Party': 149,\n",
       " 'Indian National Congress': 101,\n",
       " 'Nationalist Congress Party': 59,\n",
       " 'Nationalist Congress Party- Sharadchandra Pawar': 86,\n",
       " 'Shiv Sena': 81,\n",
       " 'Shiv Sena (Uddhav Balasaheb Thackeray)': 95}"
      ]
     },
     "execution_count": 649,
     "metadata": {},
     "output_type": "execute_result"
    }
   ],
   "source": [
    "def getPartyContestedSeats():\n",
    "    party_with_seats_contested = dict(major_parties_df[\"Party\"].value_counts())\n",
    "    party_with_seats_contested_sorted = dict(sorted(party_with_seats_contested.items()))\n",
    "    return party_with_seats_contested_sorted\n",
    "\n",
    "getPartyContestedSeats()"
   ]
  },
  {
   "cell_type": "code",
   "execution_count": 652,
   "id": "6e13d4c3",
   "metadata": {},
   "outputs": [
    {
     "data": {
      "text/plain": [
       "{'Bharatiya Janata Party': 132,\n",
       " 'Indian National Congress': 16,\n",
       " 'Nationalist Congress Party': 41,\n",
       " 'Nationalist Congress Party- Sharadchandra Pawar': 10,\n",
       " 'Shiv Sena': 57,\n",
       " 'Shiv Sena (Uddhav Balasaheb Thackeray)': 20}"
      ]
     },
     "execution_count": 652,
     "metadata": {},
     "output_type": "execute_result"
    }
   ],
   "source": [
    "def getPartyWinSeats():\n",
    "    party_with_win_seat_count = get_winner_candidate_party_count(df)\n",
    "    top_6_winning_parties = dict(sorted(party_with_win_seat_count.items(), key=lambda item: item[1], reverse=True)[:6])\n",
    "    return dict(sorted(top_6_winning_parties.items()))\n",
    "\n",
    "getPartyWinSeats()"
   ]
  },
  {
   "cell_type": "code",
   "execution_count": 653,
   "id": "f741f9e1",
   "metadata": {},
   "outputs": [
    {
     "data": {
      "text/plain": [
       "{'Bharatiya Janata Party': 88.59,\n",
       " 'Indian National Congress': 15.84,\n",
       " 'Nationalist Congress Party': 69.49,\n",
       " 'Nationalist Congress Party- Sharadchandra Pawar': 11.63,\n",
       " 'Shiv Sena': 70.37,\n",
       " 'Shiv Sena (Uddhav Balasaheb Thackeray)': 21.05}"
      ]
     },
     "execution_count": 653,
     "metadata": {},
     "output_type": "execute_result"
    }
   ],
   "source": [
    "def getPartyStrikeRate():\n",
    "    party_win_seats = getPartyWinSeats()\n",
    "    party_contested_seats = getPartyContestedSeats()\n",
    "    strike_rate_dict = {}\n",
    "    for party in party_win_seats:\n",
    "        if party in party_contested_seats:  # Ensure the party is in both dictionaries\n",
    "            strike_rate = round(((party_win_seats[party] / party_contested_seats[party])*100), 2)\n",
    "            #print(party, \" \", party_win_seats[party] , \" \", party_contested_seats[party], \" \", strike_rate)    \n",
    "            strike_rate_dict[party] = strike_rate \n",
    "    return strike_rate_dict\n",
    "\n",
    "getPartyStrikeRate()   "
   ]
  },
  {
   "cell_type": "code",
   "execution_count": 725,
   "id": "e47b9ba9",
   "metadata": {},
   "outputs": [
    {
     "data": {
      "text/html": [
       "<style type=\"text/css\">\n",
       "#T_5033b_ th {\n",
       "  background-color: orange;\n",
       "  color: black;\n",
       "  font-weight: bold;\n",
       "  font-size: 14px;\n",
       "  text-align: right;\n",
       "}\n",
       "</style>\n",
       "<table id=\"T_5033b_\">\n",
       "  <thead>\n",
       "    <tr>\n",
       "      <th class=\"col_heading level0 col0\" >Party</th>\n",
       "      <th class=\"col_heading level0 col1\" >Won Seats</th>\n",
       "      <th class=\"col_heading level0 col2\" >Contested Seats</th>\n",
       "      <th class=\"col_heading level0 col3\" >Strike Rate</th>\n",
       "    </tr>\n",
       "  </thead>\n",
       "  <tbody>\n",
       "    <tr>\n",
       "      <td id=\"T_5033b_row0_col0\" class=\"data row0 col0\" >Bharatiya Janata Party</td>\n",
       "      <td id=\"T_5033b_row0_col1\" class=\"data row0 col1\" >132</td>\n",
       "      <td id=\"T_5033b_row0_col2\" class=\"data row0 col2\" >149</td>\n",
       "      <td id=\"T_5033b_row0_col3\" class=\"data row0 col3\" >88.590000</td>\n",
       "    </tr>\n",
       "    <tr>\n",
       "      <td id=\"T_5033b_row1_col0\" class=\"data row1 col0\" >Shiv Sena</td>\n",
       "      <td id=\"T_5033b_row1_col1\" class=\"data row1 col1\" >57</td>\n",
       "      <td id=\"T_5033b_row1_col2\" class=\"data row1 col2\" >81</td>\n",
       "      <td id=\"T_5033b_row1_col3\" class=\"data row1 col3\" >70.370000</td>\n",
       "    </tr>\n",
       "    <tr>\n",
       "      <td id=\"T_5033b_row2_col0\" class=\"data row2 col0\" >Nationalist Congress Party</td>\n",
       "      <td id=\"T_5033b_row2_col1\" class=\"data row2 col1\" >41</td>\n",
       "      <td id=\"T_5033b_row2_col2\" class=\"data row2 col2\" >59</td>\n",
       "      <td id=\"T_5033b_row2_col3\" class=\"data row2 col3\" >69.490000</td>\n",
       "    </tr>\n",
       "    <tr>\n",
       "      <td id=\"T_5033b_row3_col0\" class=\"data row3 col0\" >Shiv Sena (Uddhav Balasaheb Thackeray)</td>\n",
       "      <td id=\"T_5033b_row3_col1\" class=\"data row3 col1\" >20</td>\n",
       "      <td id=\"T_5033b_row3_col2\" class=\"data row3 col2\" >95</td>\n",
       "      <td id=\"T_5033b_row3_col3\" class=\"data row3 col3\" >21.050000</td>\n",
       "    </tr>\n",
       "    <tr>\n",
       "      <td id=\"T_5033b_row4_col0\" class=\"data row4 col0\" >Indian National Congress</td>\n",
       "      <td id=\"T_5033b_row4_col1\" class=\"data row4 col1\" >16</td>\n",
       "      <td id=\"T_5033b_row4_col2\" class=\"data row4 col2\" >101</td>\n",
       "      <td id=\"T_5033b_row4_col3\" class=\"data row4 col3\" >15.840000</td>\n",
       "    </tr>\n",
       "    <tr>\n",
       "      <td id=\"T_5033b_row5_col0\" class=\"data row5 col0\" >Nationalist Congress Party- Sharadchandra Pawar</td>\n",
       "      <td id=\"T_5033b_row5_col1\" class=\"data row5 col1\" >10</td>\n",
       "      <td id=\"T_5033b_row5_col2\" class=\"data row5 col2\" >86</td>\n",
       "      <td id=\"T_5033b_row5_col3\" class=\"data row5 col3\" >11.630000</td>\n",
       "    </tr>\n",
       "  </tbody>\n",
       "</table>\n"
      ],
      "text/plain": [
       "<pandas.io.formats.style.Styler at 0x212c4488>"
      ]
     },
     "execution_count": 725,
     "metadata": {},
     "output_type": "execute_result"
    }
   ],
   "source": [
    "columns = ['Party', 'Won Seats', 'Contested Seats', 'Strike Rate']\n",
    "party_win_seats = getPartyWinSeats()\n",
    "party_contested_seats = getPartyContestedSeats()\n",
    "party_strike_rate = getPartyStrikeRate()\n",
    "\n",
    "strike_rate_df = pd.DataFrame(columns = columns)\n",
    "\n",
    "for party in party_win_seats:\n",
    "    strike_rate_df = strike_rate_df.append({'Party': party, \n",
    "                                           'Won Seats': party_win_seats[party], \n",
    "                                           'Contested Seats': party_contested_seats[party],\n",
    "                                           'Strike Rate': party_strike_rate[party]\n",
    "                                           }, ignore_index=True)\n",
    "df_sorted_desc = strike_rate_df.sort_values(by='Strike Rate', ascending=False)\n",
    "df_sorted_desc = df_sorted_desc.reset_index(drop=True)\n",
    "\n",
    "styled_df = df_sorted_desc.style.set_table_styles(\n",
    "    [{'selector': 'th', \n",
    "      'props': [('background-color', 'orange'), \n",
    "                ('color', 'black'), \n",
    "                ('font-weight', 'bold'), \n",
    "                ('font-size', '14px'), \n",
    "                ('text-align', 'right')]}]\n",
    ").hide_index()\n",
    "styled_df"
   ]
  },
  {
   "cell_type": "code",
   "execution_count": 746,
   "id": "984817bc",
   "metadata": {},
   "outputs": [
    {
     "data": {
      "image/png": "[encoded data removed]",
      "text/plain": [
       "<Figure size 640x480 with 1 Axes>"
      ]
     },
     "metadata": {},
     "output_type": "display_data"
    }
   ],
   "source": [
    "# Create the bar plot using seaborn\n",
    "xlable = 'Party'+ str(party_win_seats[party])\n",
    "\n",
    "sns.barplot(x='Party', y='Won Seats', data=df_sorted_desc, palette='Set2')\n",
    "# Add labels and title\n",
    "plt.title('Seats Won by Party', fontsize=16)\n",
    "plt.xlabel('Party', fontsize=12)\n",
    "plt.ylabel('Won Seats', fontsize=12)\n",
    "\n",
    "# Rotate the x-axis labels for better readability\n",
    "#plt.xticks(rotation=45, ha='right')\n",
    "plt.xticks(ticks=range(len(df_sorted_desc['Party'])), labels=[f\"{party}\\n({seats} Seats)\" for party, seats in zip(df_sorted_desc['Party'], df_sorted_desc['Won Seats'])], rotation=45, ha='right')\n",
    "\n",
    "# Display the plot\n",
    "plt.show()"
   ]
  },
  {
   "cell_type": "code",
   "execution_count": 655,
   "id": "43a65407",
   "metadata": {},
   "outputs": [
    {
     "data": {
      "application/vnd.plotly.v1+json": {
       "config": {
        "plotlyServerURL": "https://plot.ly"
       },
       "data": [
        {
         "hoverinfo": "label+percent+value",
         "labels": [
          "Bharatiya Janata Party",
          "Shiv Sena",
          "Nationalist Congress Party",
          "Shiv Sena (Uddhav Balasaheb Thackeray)",
          "Indian National Congress",
          "Nationalist Congress Party- Sharadchandra Pawar",
          "Samajwadi Party",
          "Independent",
          "Jan Surajya Shakti",
          "Rashtriya Yuva Swabhiman Party",
          "Rashtriya Samaj Paksha",
          "All India Majlis-E-Ittehadul Muslimeen",
          "Communist Party of India  (Marxist)",
          "Peasants And Workers Party of India",
          "Rajarshi Shahu Vikas Aghadi"
         ],
         "marker": {
          "colors": [
           "#ff9999",
           "#66b3ff",
           "#99ff99",
           "#ffcc99",
           "#c2c2f0"
          ]
         },
         "type": "pie",
         "values": [
          132,
          57,
          41,
          20,
          16,
          10,
          2,
          2,
          2,
          1,
          1,
          1,
          1,
          1,
          1
         ]
        }
       ],
       "layout": {
        "template": {
         "data": {
          "bar": [
           {
            "error_x": {
             "color": "#2a3f5f"
            },
            "error_y": {
             "color": "#2a3f5f"
            },
            "marker": {
             "line": {
              "color": "#E5ECF6",
              "width": 0.5
             },
             "pattern": {
              "fillmode": "overlay",
              "size": 10,
              "solidity": 0.2
             }
            },
            "type": "bar"
           }
          ],
          "barpolar": [
           {
            "marker": {
             "line": {
              "color": "#E5ECF6",
              "width": 0.5
             },
             "pattern": {
              "fillmode": "overlay",
              "size": 10,
              "solidity": 0.2
             }
            },
            "type": "barpolar"
           }
          ],
          "carpet": [
           {
            "aaxis": {
             "endlinecolor": "#2a3f5f",
             "gridcolor": "white",
             "linecolor": "white",
             "minorgridcolor": "white",
             "startlinecolor": "#2a3f5f"
            },
            "baxis": {
             "endlinecolor": "#2a3f5f",
             "gridcolor": "white",
             "linecolor": "white",
             "minorgridcolor": "white",
             "startlinecolor": "#2a3f5f"
            },
            "type": "carpet"
           }
          ],
          "choropleth": [
           {
            "colorbar": {
             "outlinewidth": 0,
             "ticks": ""
            },
            "type": "choropleth"
           }
          ],
          "contour": [
           {
            "colorbar": {
             "outlinewidth": 0,
             "ticks": ""
            },
            "colorscale": [
             [
              0,
              "#0d0887"
             ],
             [
              0.1111111111111111,
              "#46039f"
             ],
             [
              0.2222222222222222,
              "#7201a8"
             ],
             [
              0.3333333333333333,
              "#9c179e"
             ],
             [
              0.4444444444444444,
              "#bd3786"
             ],
             [
              0.5555555555555556,
              "#d8576b"
             ],
             [
              0.6666666666666666,
              "#ed7953"
             ],
             [
              0.7777777777777778,
              "#fb9f3a"
             ],
             [
              0.8888888888888888,
              "#fdca26"
             ],
             [
              1,
              "#f0f921"
             ]
            ],
            "type": "contour"
           }
          ],
          "contourcarpet": [
           {
            "colorbar": {
             "outlinewidth": 0,
             "ticks": ""
            },
            "type": "contourcarpet"
           }
          ],
          "heatmap": [
           {
            "colorbar": {
             "outlinewidth": 0,
             "ticks": ""
            },
            "colorscale": [
             [
              0,
              "#0d0887"
             ],
             [
              0.1111111111111111,
              "#46039f"
             ],
             [
              0.2222222222222222,
              "#7201a8"
             ],
             [
              0.3333333333333333,
              "#9c179e"
             ],
             [
              0.4444444444444444,
              "#bd3786"
             ],
             [
              0.5555555555555556,
              "#d8576b"
             ],
             [
              0.6666666666666666,
              "#ed7953"
             ],
             [
              0.7777777777777778,
              "#fb9f3a"
             ],
             [
              0.8888888888888888,
              "#fdca26"
             ],
             [
              1,
              "#f0f921"
             ]
            ],
            "type": "heatmap"
           }
          ],
          "heatmapgl": [
           {
            "colorbar": {
             "outlinewidth": 0,
             "ticks": ""
            },
            "colorscale": [
             [
              0,
              "#0d0887"
             ],
             [
              0.1111111111111111,
              "#46039f"
             ],
             [
              0.2222222222222222,
              "#7201a8"
             ],
             [
              0.3333333333333333,
              "#9c179e"
             ],
             [
              0.4444444444444444,
              "#bd3786"
             ],
             [
              0.5555555555555556,
              "#d8576b"
             ],
             [
              0.6666666666666666,
              "#ed7953"
             ],
             [
              0.7777777777777778,
              "#fb9f3a"
             ],
             [
              0.8888888888888888,
              "#fdca26"
             ],
             [
              1,
              "#f0f921"
             ]
            ],
            "type": "heatmapgl"
           }
          ],
          "histogram": [
           {
            "marker": {
             "pattern": {
              "fillmode": "overlay",
              "size": 10,
              "solidity": 0.2
             }
            },
            "type": "histogram"
           }
          ],
          "histogram2d": [
           {
            "colorbar": {
             "outlinewidth": 0,
             "ticks": ""
            },
            "colorscale": [
             [
              0,
              "#0d0887"
             ],
             [
              0.1111111111111111,
              "#46039f"
             ],
             [
              0.2222222222222222,
              "#7201a8"
             ],
             [
              0.3333333333333333,
              "#9c179e"
             ],
             [
              0.4444444444444444,
              "#bd3786"
             ],
             [
              0.5555555555555556,
              "#d8576b"
             ],
             [
              0.6666666666666666,
              "#ed7953"
             ],
             [
              0.7777777777777778,
              "#fb9f3a"
             ],
             [
              0.8888888888888888,
              "#fdca26"
             ],
             [
              1,
              "#f0f921"
             ]
            ],
            "type": "histogram2d"
           }
          ],
          "histogram2dcontour": [
           {
            "colorbar": {
             "outlinewidth": 0,
             "ticks": ""
            },
            "colorscale": [
             [
              0,
              "#0d0887"
             ],
             [
              0.1111111111111111,
              "#46039f"
             ],
             [
              0.2222222222222222,
              "#7201a8"
             ],
             [
              0.3333333333333333,
              "#9c179e"
             ],
             [
              0.4444444444444444,
              "#bd3786"
             ],
             [
              0.5555555555555556,
              "#d8576b"
             ],
             [
              0.6666666666666666,
              "#ed7953"
             ],
             [
              0.7777777777777778,
              "#fb9f3a"
             ],
             [
              0.8888888888888888,
              "#fdca26"
             ],
             [
              1,
              "#f0f921"
             ]
            ],
            "type": "histogram2dcontour"
           }
          ],
          "mesh3d": [
           {
            "colorbar": {
             "outlinewidth": 0,
             "ticks": ""
            },
            "type": "mesh3d"
           }
          ],
          "parcoords": [
           {
            "line": {
             "colorbar": {
              "outlinewidth": 0,
              "ticks": ""
             }
            },
            "type": "parcoords"
           }
          ],
          "pie": [
           {
            "automargin": true,
            "type": "pie"
           }
          ],
          "scatter": [
           {
            "fillpattern": {
             "fillmode": "overlay",
             "size": 10,
             "solidity": 0.2
            },
            "type": "scatter"
           }
          ],
          "scatter3d": [
           {
            "line": {
             "colorbar": {
              "outlinewidth": 0,
              "ticks": ""
             }
            },
            "marker": {
             "colorbar": {
              "outlinewidth": 0,
              "ticks": ""
             }
            },
            "type": "scatter3d"
           }
          ],
          "scattercarpet": [
           {
            "marker": {
             "colorbar": {
              "outlinewidth": 0,
              "ticks": ""
             }
            },
            "type": "scattercarpet"
           }
          ],
          "scattergeo": [
           {
            "marker": {
             "colorbar": {
              "outlinewidth": 0,
              "ticks": ""
             }
            },
            "type": "scattergeo"
           }
          ],
          "scattergl": [
           {
            "marker": {
             "colorbar": {
              "outlinewidth": 0,
              "ticks": ""
             }
            },
            "type": "scattergl"
           }
          ],
          "scattermapbox": [
           {
            "marker": {
             "colorbar": {
              "outlinewidth": 0,
              "ticks": ""
             }
            },
            "type": "scattermapbox"
           }
          ],
          "scatterpolar": [
           {
            "marker": {
             "colorbar": {
              "outlinewidth": 0,
              "ticks": ""
             }
            },
            "type": "scatterpolar"
           }
          ],
          "scatterpolargl": [
           {
            "marker": {
             "colorbar": {
              "outlinewidth": 0,
              "ticks": ""
             }
            },
            "type": "scatterpolargl"
           }
          ],
          "scatterternary": [
           {
            "marker": {
             "colorbar": {
              "outlinewidth": 0,
              "ticks": ""
             }
            },
            "type": "scatterternary"
           }
          ],
          "surface": [
           {
            "colorbar": {
             "outlinewidth": 0,
             "ticks": ""
            },
            "colorscale": [
             [
              0,
              "#0d0887"
             ],
             [
              0.1111111111111111,
              "#46039f"
             ],
             [
              0.2222222222222222,
              "#7201a8"
             ],
             [
              0.3333333333333333,
              "#9c179e"
             ],
             [
              0.4444444444444444,
              "#bd3786"
             ],
             [
              0.5555555555555556,
              "#d8576b"
             ],
             [
              0.6666666666666666,
              "#ed7953"
             ],
             [
              0.7777777777777778,
              "#fb9f3a"
             ],
             [
              0.8888888888888888,
              "#fdca26"
             ],
             [
              1,
              "#f0f921"
             ]
            ],
            "type": "surface"
           }
          ],
          "table": [
           {
            "cells": {
             "fill": {
              "color": "#EBF0F8"
             },
             "line": {
              "color": "white"
             }
            },
            "header": {
             "fill": {
              "color": "#C8D4E3"
             },
             "line": {
              "color": "white"
             }
            },
            "type": "table"
           }
          ]
         },
         "layout": {
          "annotationdefaults": {
           "arrowcolor": "#2a3f5f",
           "arrowhead": 0,
           "arrowwidth": 1
          },
          "autotypenumbers": "strict",
          "coloraxis": {
           "colorbar": {
            "outlinewidth": 0,
            "ticks": ""
           }
          },
          "colorscale": {
           "diverging": [
            [
             0,
             "#8e0152"
            ],
            [
             0.1,
             "#c51b7d"
            ],
            [
             0.2,
             "#de77ae"
            ],
            [
             0.3,
             "#f1b6da"
            ],
            [
             0.4,
             "#fde0ef"
            ],
            [
             0.5,
             "#f7f7f7"
            ],
            [
             0.6,
             "#e6f5d0"
            ],
            [
             0.7,
             "#b8e186"
            ],
            [
             0.8,
             "#7fbc41"
            ],
            [
             0.9,
             "#4d9221"
            ],
            [
             1,
             "#276419"
            ]
           ],
           "sequential": [
            [
             0,
             "#0d0887"
            ],
            [
             0.1111111111111111,
             "#46039f"
            ],
            [
             0.2222222222222222,
             "#7201a8"
            ],
            [
             0.3333333333333333,
             "#9c179e"
            ],
            [
             0.4444444444444444,
             "#bd3786"
            ],
            [
             0.5555555555555556,
             "#d8576b"
            ],
            [
             0.6666666666666666,
             "#ed7953"
            ],
            [
             0.7777777777777778,
             "#fb9f3a"
            ],
            [
             0.8888888888888888,
             "#fdca26"
            ],
            [
             1,
             "#f0f921"
            ]
           ],
           "sequentialminus": [
            [
             0,
             "#0d0887"
            ],
            [
             0.1111111111111111,
             "#46039f"
            ],
            [
             0.2222222222222222,
             "#7201a8"
            ],
            [
             0.3333333333333333,
             "#9c179e"
            ],
            [
             0.4444444444444444,
             "#bd3786"
            ],
            [
             0.5555555555555556,
             "#d8576b"
            ],
            [
             0.6666666666666666,
             "#ed7953"
            ],
            [
             0.7777777777777778,
             "#fb9f3a"
            ],
            [
             0.8888888888888888,
             "#fdca26"
            ],
            [
             1,
             "#f0f921"
            ]
           ]
          },
          "colorway": [
           "#636efa",
           "#EF553B",
           "#00cc96",
           "#ab63fa",
           "#FFA15A",
           "#19d3f3",
           "#FF6692",
           "#B6E880",
           "#FF97FF",
           "#FECB52"
          ],
          "font": {
           "color": "#2a3f5f"
          },
          "geo": {
           "bgcolor": "white",
           "lakecolor": "white",
           "landcolor": "#E5ECF6",
           "showlakes": true,
           "showland": true,
           "subunitcolor": "white"
          },
          "hoverlabel": {
           "align": "left"
          },
          "hovermode": "closest",
          "mapbox": {
           "style": "light"
          },
          "paper_bgcolor": "white",
          "plot_bgcolor": "#E5ECF6",
          "polar": {
           "angularaxis": {
            "gridcolor": "white",
            "linecolor": "white",
            "ticks": ""
           },
           "bgcolor": "#E5ECF6",
           "radialaxis": {
            "gridcolor": "white",
            "linecolor": "white",
            "ticks": ""
           }
          },
          "scene": {
           "xaxis": {
            "backgroundcolor": "#E5ECF6",
            "gridcolor": "white",
            "gridwidth": 2,
            "linecolor": "white",
            "showbackground": true,
            "ticks": "",
            "zerolinecolor": "white"
           },
           "yaxis": {
            "backgroundcolor": "#E5ECF6",
            "gridcolor": "white",
            "gridwidth": 2,
            "linecolor": "white",
            "showbackground": true,
            "ticks": "",
            "zerolinecolor": "white"
           },
           "zaxis": {
            "backgroundcolor": "#E5ECF6",
            "gridcolor": "white",
            "gridwidth": 2,
            "linecolor": "white",
            "showbackground": true,
            "ticks": "",
            "zerolinecolor": "white"
           }
          },
          "shapedefaults": {
           "line": {
            "color": "#2a3f5f"
           }
          },
          "ternary": {
           "aaxis": {
            "gridcolor": "white",
            "linecolor": "white",
            "ticks": ""
           },
           "baxis": {
            "gridcolor": "white",
            "linecolor": "white",
            "ticks": ""
           },
           "bgcolor": "#E5ECF6",
           "caxis": {
            "gridcolor": "white",
            "linecolor": "white",
            "ticks": ""
           }
          },
          "title": {
           "x": 0.05
          },
          "xaxis": {
           "automargin": true,
           "gridcolor": "white",
           "linecolor": "white",
           "ticks": "",
           "title": {
            "standoff": 15
           },
           "zerolinecolor": "white",
           "zerolinewidth": 2
          },
          "yaxis": {
           "automargin": true,
           "gridcolor": "white",
           "linecolor": "white",
           "ticks": "",
           "title": {
            "standoff": 15
           },
           "zerolinecolor": "white",
           "zerolinewidth": 2
          }
         }
        },
        "title": {
         "text": "Party Vote Share Distribution"
        }
       }
      },
      "text/html": [
       "<div>                            <div id=\"2c3add25-f22e-4c26-97ee-121313bd1fe0\" class=\"plotly-graph-div\" style=\"height:525px; width:100%;\"></div>            <script type=\"text/javascript\">                require([\"plotly\"], function(Plotly) {                    window.PLOTLYENV=window.PLOTLYENV || {};                                    if (document.getElementById(\"2c3add25-f22e-4c26-97ee-121313bd1fe0\")) {                    Plotly.newPlot(                        \"2c3add25-f22e-4c26-97ee-121313bd1fe0\",                        [{\"hoverinfo\":\"label+percent+value\",\"labels\":[\"Bharatiya Janata Party\",\"Shiv Sena\",\"Nationalist Congress Party\",\"Shiv Sena (Uddhav Balasaheb Thackeray)\",\"Indian National Congress\",\"Nationalist Congress Party- Sharadchandra Pawar\",\"Samajwadi Party\",\"Independent\",\"Jan Surajya Shakti\",\"Rashtriya Yuva Swabhiman Party\",\"Rashtriya Samaj Paksha\",\"All India Majlis-E-Ittehadul Muslimeen\",\"Communist Party of India  (Marxist)\",\"Peasants And Workers Party of India\",\"Rajarshi Shahu Vikas Aghadi\"],\"marker\":{\"colors\":[\"#ff9999\",\"#66b3ff\",\"#99ff99\",\"#ffcc99\",\"#c2c2f0\"]},\"values\":[132,57,41,20,16,10,2,2,2,1,1,1,1,1,1],\"type\":\"pie\"}],                        {\"template\":{\"data\":{\"histogram2dcontour\":[{\"type\":\"histogram2dcontour\",\"colorbar\":{\"outlinewidth\":0,\"ticks\":\"\"},\"colorscale\":[[0.0,\"#0d0887\"],[0.1111111111111111,\"#46039f\"],[0.2222222222222222,\"#7201a8\"],[0.3333333333333333,\"#9c179e\"],[0.4444444444444444,\"#bd3786\"],[0.5555555555555556,\"#d8576b\"],[0.6666666666666666,\"#ed7953\"],[0.7777777777777778,\"#fb9f3a\"],[0.8888888888888888,\"#fdca26\"],[1.0,\"#f0f921\"]]}],\"choropleth\":[{\"type\":\"choropleth\",\"colorbar\":{\"outlinewidth\":0,\"ticks\":\"\"}}],\"histogram2d\":[{\"type\":\"histogram2d\",\"colorbar\":{\"outlinewidth\":0,\"ticks\":\"\"},\"colorscale\":[[0.0,\"#0d0887\"],[0.1111111111111111,\"#46039f\"],[0.2222222222222222,\"#7201a8\"],[0.3333333333333333,\"#9c179e\"],[0.4444444444444444,\"#bd3786\"],[0.5555555555555556,\"#d8576b\"],[0.6666666666666666,\"#ed7953\"],[0.7777777777777778,\"#fb9f3a\"],[0.8888888888888888,\"#fdca26\"],[1.0,\"#f0f921\"]]}],\"heatmap\":[{\"type\":\"heatmap\",\"colorbar\":{\"outlinewidth\":0,\"ticks\":\"\"},\"colorscale\":[[0.0,\"#0d0887\"],[0.1111111111111111,\"#46039f\"],[0.2222222222222222,\"#7201a8\"],[0.3333333333333333,\"#9c179e\"],[0.4444444444444444,\"#bd3786\"],[0.5555555555555556,\"#d8576b\"],[0.6666666666666666,\"#ed7953\"],[0.7777777777777778,\"#fb9f3a\"],[0.8888888888888888,\"#fdca26\"],[1.0,\"#f0f921\"]]}],\"heatmapgl\":[{\"type\":\"heatmapgl\",\"colorbar\":{\"outlinewidth\":0,\"ticks\":\"\"},\"colorscale\":[[0.0,\"#0d0887\"],[0.1111111111111111,\"#46039f\"],[0.2222222222222222,\"#7201a8\"],[0.3333333333333333,\"#9c179e\"],[0.4444444444444444,\"#bd3786\"],[0.5555555555555556,\"#d8576b\"],[0.6666666666666666,\"#ed7953\"],[0.7777777777777778,\"#fb9f3a\"],[0.8888888888888888,\"#fdca26\"],[1.0,\"#f0f921\"]]}],\"contourcarpet\":[{\"type\":\"contourcarpet\",\"colorbar\":{\"outlinewidth\":0,\"ticks\":\"\"}}],\"contour\":[{\"type\":\"contour\",\"colorbar\":{\"outlinewidth\":0,\"ticks\":\"\"},\"colorscale\":[[0.0,\"#0d0887\"],[0.1111111111111111,\"#46039f\"],[0.2222222222222222,\"#7201a8\"],[0.3333333333333333,\"#9c179e\"],[0.4444444444444444,\"#bd3786\"],[0.5555555555555556,\"#d8576b\"],[0.6666666666666666,\"#ed7953\"],[0.7777777777777778,\"#fb9f3a\"],[0.8888888888888888,\"#fdca26\"],[1.0,\"#f0f921\"]]}],\"surface\":[{\"type\":\"surface\",\"colorbar\":{\"outlinewidth\":0,\"ticks\":\"\"},\"colorscale\":[[0.0,\"#0d0887\"],[0.1111111111111111,\"#46039f\"],[0.2222222222222222,\"#7201a8\"],[0.3333333333333333,\"#9c179e\"],[0.4444444444444444,\"#bd3786\"],[0.5555555555555556,\"#d8576b\"],[0.6666666666666666,\"#ed7953\"],[0.7777777777777778,\"#fb9f3a\"],[0.8888888888888888,\"#fdca26\"],[1.0,\"#f0f921\"]]}],\"mesh3d\":[{\"type\":\"mesh3d\",\"colorbar\":{\"outlinewidth\":0,\"ticks\":\"\"}}],\"scatter\":[{\"fillpattern\":{\"fillmode\":\"overlay\",\"size\":10,\"solidity\":0.2},\"type\":\"scatter\"}],\"parcoords\":[{\"type\":\"parcoords\",\"line\":{\"colorbar\":{\"outlinewidth\":0,\"ticks\":\"\"}}}],\"scatterpolargl\":[{\"type\":\"scatterpolargl\",\"marker\":{\"colorbar\":{\"outlinewidth\":0,\"ticks\":\"\"}}}],\"bar\":[{\"error_x\":{\"color\":\"#2a3f5f\"},\"error_y\":{\"color\":\"#2a3f5f\"},\"marker\":{\"line\":{\"color\":\"#E5ECF6\",\"width\":0.5},\"pattern\":{\"fillmode\":\"overlay\",\"size\":10,\"solidity\":0.2}},\"type\":\"bar\"}],\"scattergeo\":[{\"type\":\"scattergeo\",\"marker\":{\"colorbar\":{\"outlinewidth\":0,\"ticks\":\"\"}}}],\"scatterpolar\":[{\"type\":\"scatterpolar\",\"marker\":{\"colorbar\":{\"outlinewidth\":0,\"ticks\":\"\"}}}],\"histogram\":[{\"marker\":{\"pattern\":{\"fillmode\":\"overlay\",\"size\":10,\"solidity\":0.2}},\"type\":\"histogram\"}],\"scattergl\":[{\"type\":\"scattergl\",\"marker\":{\"colorbar\":{\"outlinewidth\":0,\"ticks\":\"\"}}}],\"scatter3d\":[{\"type\":\"scatter3d\",\"line\":{\"colorbar\":{\"outlinewidth\":0,\"ticks\":\"\"}},\"marker\":{\"colorbar\":{\"outlinewidth\":0,\"ticks\":\"\"}}}],\"scattermapbox\":[{\"type\":\"scattermapbox\",\"marker\":{\"colorbar\":{\"outlinewidth\":0,\"ticks\":\"\"}}}],\"scatterternary\":[{\"type\":\"scatterternary\",\"marker\":{\"colorbar\":{\"outlinewidth\":0,\"ticks\":\"\"}}}],\"scattercarpet\":[{\"type\":\"scattercarpet\",\"marker\":{\"colorbar\":{\"outlinewidth\":0,\"ticks\":\"\"}}}],\"carpet\":[{\"aaxis\":{\"endlinecolor\":\"#2a3f5f\",\"gridcolor\":\"white\",\"linecolor\":\"white\",\"minorgridcolor\":\"white\",\"startlinecolor\":\"#2a3f5f\"},\"baxis\":{\"endlinecolor\":\"#2a3f5f\",\"gridcolor\":\"white\",\"linecolor\":\"white\",\"minorgridcolor\":\"white\",\"startlinecolor\":\"#2a3f5f\"},\"type\":\"carpet\"}],\"table\":[{\"cells\":{\"fill\":{\"color\":\"#EBF0F8\"},\"line\":{\"color\":\"white\"}},\"header\":{\"fill\":{\"color\":\"#C8D4E3\"},\"line\":{\"color\":\"white\"}},\"type\":\"table\"}],\"barpolar\":[{\"marker\":{\"line\":{\"color\":\"#E5ECF6\",\"width\":0.5},\"pattern\":{\"fillmode\":\"overlay\",\"size\":10,\"solidity\":0.2}},\"type\":\"barpolar\"}],\"pie\":[{\"automargin\":true,\"type\":\"pie\"}]},\"layout\":{\"autotypenumbers\":\"strict\",\"colorway\":[\"#636efa\",\"#EF553B\",\"#00cc96\",\"#ab63fa\",\"#FFA15A\",\"#19d3f3\",\"#FF6692\",\"#B6E880\",\"#FF97FF\",\"#FECB52\"],\"font\":{\"color\":\"#2a3f5f\"},\"hovermode\":\"closest\",\"hoverlabel\":{\"align\":\"left\"},\"paper_bgcolor\":\"white\",\"plot_bgcolor\":\"#E5ECF6\",\"polar\":{\"bgcolor\":\"#E5ECF6\",\"angularaxis\":{\"gridcolor\":\"white\",\"linecolor\":\"white\",\"ticks\":\"\"},\"radialaxis\":{\"gridcolor\":\"white\",\"linecolor\":\"white\",\"ticks\":\"\"}},\"ternary\":{\"bgcolor\":\"#E5ECF6\",\"aaxis\":{\"gridcolor\":\"white\",\"linecolor\":\"white\",\"ticks\":\"\"},\"baxis\":{\"gridcolor\":\"white\",\"linecolor\":\"white\",\"ticks\":\"\"},\"caxis\":{\"gridcolor\":\"white\",\"linecolor\":\"white\",\"ticks\":\"\"}},\"coloraxis\":{\"colorbar\":{\"outlinewidth\":0,\"ticks\":\"\"}},\"colorscale\":{\"sequential\":[[0.0,\"#0d0887\"],[0.1111111111111111,\"#46039f\"],[0.2222222222222222,\"#7201a8\"],[0.3333333333333333,\"#9c179e\"],[0.4444444444444444,\"#bd3786\"],[0.5555555555555556,\"#d8576b\"],[0.6666666666666666,\"#ed7953\"],[0.7777777777777778,\"#fb9f3a\"],[0.8888888888888888,\"#fdca26\"],[1.0,\"#f0f921\"]],\"sequentialminus\":[[0.0,\"#0d0887\"],[0.1111111111111111,\"#46039f\"],[0.2222222222222222,\"#7201a8\"],[0.3333333333333333,\"#9c179e\"],[0.4444444444444444,\"#bd3786\"],[0.5555555555555556,\"#d8576b\"],[0.6666666666666666,\"#ed7953\"],[0.7777777777777778,\"#fb9f3a\"],[0.8888888888888888,\"#fdca26\"],[1.0,\"#f0f921\"]],\"diverging\":[[0,\"#8e0152\"],[0.1,\"#c51b7d\"],[0.2,\"#de77ae\"],[0.3,\"#f1b6da\"],[0.4,\"#fde0ef\"],[0.5,\"#f7f7f7\"],[0.6,\"#e6f5d0\"],[0.7,\"#b8e186\"],[0.8,\"#7fbc41\"],[0.9,\"#4d9221\"],[1,\"#276419\"]]},\"xaxis\":{\"gridcolor\":\"white\",\"linecolor\":\"white\",\"ticks\":\"\",\"title\":{\"standoff\":15},\"zerolinecolor\":\"white\",\"automargin\":true,\"zerolinewidth\":2},\"yaxis\":{\"gridcolor\":\"white\",\"linecolor\":\"white\",\"ticks\":\"\",\"title\":{\"standoff\":15},\"zerolinecolor\":\"white\",\"automargin\":true,\"zerolinewidth\":2},\"scene\":{\"xaxis\":{\"backgroundcolor\":\"#E5ECF6\",\"gridcolor\":\"white\",\"linecolor\":\"white\",\"showbackground\":true,\"ticks\":\"\",\"zerolinecolor\":\"white\",\"gridwidth\":2},\"yaxis\":{\"backgroundcolor\":\"#E5ECF6\",\"gridcolor\":\"white\",\"linecolor\":\"white\",\"showbackground\":true,\"ticks\":\"\",\"zerolinecolor\":\"white\",\"gridwidth\":2},\"zaxis\":{\"backgroundcolor\":\"#E5ECF6\",\"gridcolor\":\"white\",\"linecolor\":\"white\",\"showbackground\":true,\"ticks\":\"\",\"zerolinecolor\":\"white\",\"gridwidth\":2}},\"shapedefaults\":{\"line\":{\"color\":\"#2a3f5f\"}},\"annotationdefaults\":{\"arrowcolor\":\"#2a3f5f\",\"arrowhead\":0,\"arrowwidth\":1},\"geo\":{\"bgcolor\":\"white\",\"landcolor\":\"#E5ECF6\",\"subunitcolor\":\"white\",\"showland\":true,\"showlakes\":true,\"lakecolor\":\"white\"},\"title\":{\"x\":0.05},\"mapbox\":{\"style\":\"light\"}}},\"title\":{\"text\":\"Party Vote Share Distribution\"}},                        {\"responsive\": true}                    ).then(function(){\n",
       "                            \n",
       "var gd = document.getElementById('2c3add25-f22e-4c26-97ee-121313bd1fe0');\n",
       "var x = new MutationObserver(function (mutations, observer) {{\n",
       "        var display = window.getComputedStyle(gd).display;\n",
       "        if (!display || display === 'none') {{\n",
       "            console.log([gd, 'removed!']);\n",
       "            Plotly.purge(gd);\n",
       "            observer.disconnect();\n",
       "        }}\n",
       "}});\n",
       "\n",
       "// Listen for the removal of the full notebook cells\n",
       "var notebookContainer = gd.closest('#notebook-container');\n",
       "if (notebookContainer) {{\n",
       "    x.observe(notebookContainer, {childList: true});\n",
       "}}\n",
       "\n",
       "// Listen for the clearing of the current output cell\n",
       "var outputEl = gd.closest('.output');\n",
       "if (outputEl) {{\n",
       "    x.observe(outputEl, {childList: true});\n",
       "}}\n",
       "\n",
       "                        })                };                });            </script>        </div>"
      ]
     },
     "metadata": {},
     "output_type": "display_data"
    }
   ],
   "source": [
    "data = get_winner_candidate_party_count(df)\n",
    "# Extract the keys and values from the dictionary\n",
    "labels = list(data.keys())\n",
    "sizes = list(data.values())\n",
    "\n",
    "# Create the pie chart\n",
    "fig = go.Figure(data=[go.Pie(labels=labels, values=sizes, \n",
    "                             marker=dict(colors=colors), \n",
    "                             hoverinfo='label+percent+value')])\n",
    "\n",
    "# Add a title\n",
    "fig.update_layout(title=\"Party Vote Share Distribution\")\n",
    "\n",
    "# Show the interactive plot\n",
    "fig.show()"
   ]
  },
  {
   "cell_type": "code",
   "execution_count": 366,
   "id": "fe22c6e4",
   "metadata": {},
   "outputs": [
    {
     "data": {
      "text/html": [
       "<div>\n",
       "<style scoped>\n",
       "    .dataframe tbody tr th:only-of-type {\n",
       "        vertical-align: middle;\n",
       "    }\n",
       "\n",
       "    .dataframe tbody tr th {\n",
       "        vertical-align: top;\n",
       "    }\n",
       "\n",
       "    .dataframe thead th {\n",
       "        text-align: right;\n",
       "    }\n",
       "</style>\n",
       "<table border=\"1\" class=\"dataframe\">\n",
       "  <thead>\n",
       "    <tr style=\"text-align: right;\">\n",
       "      <th></th>\n",
       "      <th>AC No</th>\n",
       "      <th>AC Name</th>\n",
       "      <th>Sl no</th>\n",
       "      <th>Candidate</th>\n",
       "      <th>Party</th>\n",
       "      <th>EVM Votes</th>\n",
       "      <th>Postal Votes</th>\n",
       "      <th>Total Votes</th>\n",
       "      <th>Vote Share (%)</th>\n",
       "    </tr>\n",
       "  </thead>\n",
       "  <tbody>\n",
       "    <tr>\n",
       "      <th>4116</th>\n",
       "      <td>262</td>\n",
       "      <td>SATARA</td>\n",
       "      <td>3</td>\n",
       "      <td>SHIVENDRARAJE ABHAYSINHRAJE BHONSLE</td>\n",
       "      <td>Bharatiya Janata Party</td>\n",
       "      <td>175062</td>\n",
       "      <td>1787</td>\n",
       "      <td>176849</td>\n",
       "      <td>80.36</td>\n",
       "    </tr>\n",
       "    <tr>\n",
       "      <th>2396</th>\n",
       "      <td>147</td>\n",
       "      <td>KOPRI - PACHPAKHADI</td>\n",
       "      <td>1</td>\n",
       "      <td>EKNATH SAMBHAJI SHINDE</td>\n",
       "      <td>Shiv Sena</td>\n",
       "      <td>158585</td>\n",
       "      <td>475</td>\n",
       "      <td>159060</td>\n",
       "      <td>78.29</td>\n",
       "    </tr>\n",
       "    <tr>\n",
       "      <th>1977</th>\n",
       "      <td>116</td>\n",
       "      <td>BAGLAN</td>\n",
       "      <td>2</td>\n",
       "      <td>DILIP MANGLU BORSE</td>\n",
       "      <td>Bharatiya Janata Party</td>\n",
       "      <td>158720</td>\n",
       "      <td>961</td>\n",
       "      <td>159681</td>\n",
       "      <td>77.71</td>\n",
       "    </tr>\n",
       "    <tr>\n",
       "      <th>3354</th>\n",
       "      <td>219</td>\n",
       "      <td>KOPARGAON</td>\n",
       "      <td>1</td>\n",
       "      <td>ASHUTOSH ASHOKRAO KALE</td>\n",
       "      <td>Nationalist Congress Party</td>\n",
       "      <td>160042</td>\n",
       "      <td>1105</td>\n",
       "      <td>161147</td>\n",
       "      <td>77.46</td>\n",
       "    </tr>\n",
       "    <tr>\n",
       "      <th>89</th>\n",
       "      <td>9</td>\n",
       "      <td>SHIRPUR</td>\n",
       "      <td>1</td>\n",
       "      <td>KASHIRAM VECHAN PAWARA</td>\n",
       "      <td>Bharatiya Janata Party</td>\n",
       "      <td>176516</td>\n",
       "      <td>1557</td>\n",
       "      <td>178073</td>\n",
       "      <td>76.70</td>\n",
       "    </tr>\n",
       "  </tbody>\n",
       "</table>\n",
       "</div>"
      ],
      "text/plain": [
       "      AC No              AC Name  Sl no                            Candidate  \\\n",
       "4116    262               SATARA      3  SHIVENDRARAJE ABHAYSINHRAJE BHONSLE   \n",
       "2396    147  KOPRI - PACHPAKHADI      1               EKNATH SAMBHAJI SHINDE   \n",
       "1977    116               BAGLAN      2                   DILIP MANGLU BORSE   \n",
       "3354    219            KOPARGAON      1               ASHUTOSH ASHOKRAO KALE   \n",
       "89        9              SHIRPUR      1               KASHIRAM VECHAN PAWARA   \n",
       "\n",
       "                           Party  EVM Votes  Postal Votes  Total Votes  \\\n",
       "4116      Bharatiya Janata Party     175062          1787       176849   \n",
       "2396                   Shiv Sena     158585           475       159060   \n",
       "1977      Bharatiya Janata Party     158720           961       159681   \n",
       "3354  Nationalist Congress Party     160042          1105       161147   \n",
       "89        Bharatiya Janata Party     176516          1557       178073   \n",
       "\n",
       "      Vote Share (%)  \n",
       "4116           80.36  \n",
       "2396           78.29  \n",
       "1977           77.71  \n",
       "3354           77.46  \n",
       "89             76.70  "
      ]
     },
     "execution_count": 366,
     "metadata": {},
     "output_type": "execute_result"
    }
   ],
   "source": [
    "top_5_lagest_vote_share_candidates = df.nlargest(5, \"Vote Share (%)\")\n",
    "top_5_lagest_vote_share_candidates"
   ]
  },
  {
   "cell_type": "code",
   "execution_count": 368,
   "id": "6948bb6e",
   "metadata": {},
   "outputs": [
    {
     "data": {
      "text/html": [
       "<div>\n",
       "<style scoped>\n",
       "    .dataframe tbody tr th:only-of-type {\n",
       "        vertical-align: middle;\n",
       "    }\n",
       "\n",
       "    .dataframe tbody tr th {\n",
       "        vertical-align: top;\n",
       "    }\n",
       "\n",
       "    .dataframe thead th {\n",
       "        text-align: right;\n",
       "    }\n",
       "</style>\n",
       "<table border=\"1\" class=\"dataframe\">\n",
       "  <thead>\n",
       "    <tr style=\"text-align: right;\">\n",
       "      <th></th>\n",
       "      <th>AC No</th>\n",
       "      <th>AC Name</th>\n",
       "      <th>Sl no</th>\n",
       "      <th>Candidate</th>\n",
       "      <th>Party</th>\n",
       "      <th>EVM Votes</th>\n",
       "      <th>Postal Votes</th>\n",
       "      <th>Total Votes</th>\n",
       "      <th>Vote Share (%)</th>\n",
       "    </tr>\n",
       "  </thead>\n",
       "  <tbody>\n",
       "    <tr>\n",
       "      <th>869</th>\n",
       "      <td>55</td>\n",
       "      <td>NAGPUR CENTRAL</td>\n",
       "      <td>8</td>\n",
       "      <td>ADVOCATE SURAJ BALRAM MISHRA</td>\n",
       "      <td>All India Forward Bloc</td>\n",
       "      <td>26</td>\n",
       "      <td>0</td>\n",
       "      <td>26</td>\n",
       "      <td>0.01</td>\n",
       "    </tr>\n",
       "    <tr>\n",
       "      <th>1398</th>\n",
       "      <td>85</td>\n",
       "      <td>BHOKAR</td>\n",
       "      <td>25</td>\n",
       "      <td>SAMBHAJI RAMJI KALE</td>\n",
       "      <td>Independent</td>\n",
       "      <td>34</td>\n",
       "      <td>0</td>\n",
       "      <td>34</td>\n",
       "      <td>0.01</td>\n",
       "    </tr>\n",
       "    <tr>\n",
       "      <th>1424</th>\n",
       "      <td>86</td>\n",
       "      <td>NANDED NORTH</td>\n",
       "      <td>25</td>\n",
       "      <td>MAHAMAD TOUFIK MAHAMAD YUSUF</td>\n",
       "      <td>Independent</td>\n",
       "      <td>27</td>\n",
       "      <td>0</td>\n",
       "      <td>27</td>\n",
       "      <td>0.01</td>\n",
       "    </tr>\n",
       "    <tr>\n",
       "      <th>1425</th>\n",
       "      <td>86</td>\n",
       "      <td>NANDED NORTH</td>\n",
       "      <td>26</td>\n",
       "      <td>MOHAMMAD WASIM MOHAMMAD  IQBAL</td>\n",
       "      <td>Independent</td>\n",
       "      <td>31</td>\n",
       "      <td>0</td>\n",
       "      <td>31</td>\n",
       "      <td>0.01</td>\n",
       "    </tr>\n",
       "    <tr>\n",
       "      <th>4088</th>\n",
       "      <td>259</td>\n",
       "      <td>KARAD NORTH</td>\n",
       "      <td>12</td>\n",
       "      <td>BALASO SHIVAJI PATIL</td>\n",
       "      <td>Independent</td>\n",
       "      <td>29</td>\n",
       "      <td>0</td>\n",
       "      <td>29</td>\n",
       "      <td>0.01</td>\n",
       "    </tr>\n",
       "  </tbody>\n",
       "</table>\n",
       "</div>"
      ],
      "text/plain": [
       "      AC No         AC Name  Sl no                       Candidate  \\\n",
       "869      55  NAGPUR CENTRAL      8    ADVOCATE SURAJ BALRAM MISHRA   \n",
       "1398     85          BHOKAR     25             SAMBHAJI RAMJI KALE   \n",
       "1424     86    NANDED NORTH     25    MAHAMAD TOUFIK MAHAMAD YUSUF   \n",
       "1425     86    NANDED NORTH     26  MOHAMMAD WASIM MOHAMMAD  IQBAL   \n",
       "4088    259     KARAD NORTH     12            BALASO SHIVAJI PATIL   \n",
       "\n",
       "                       Party  EVM Votes  Postal Votes  Total Votes  \\\n",
       "869   All India Forward Bloc         26             0           26   \n",
       "1398             Independent         34             0           34   \n",
       "1424             Independent         27             0           27   \n",
       "1425             Independent         31             0           31   \n",
       "4088             Independent         29             0           29   \n",
       "\n",
       "      Vote Share (%)  \n",
       "869             0.01  \n",
       "1398            0.01  \n",
       "1424            0.01  \n",
       "1425            0.01  \n",
       "4088            0.01  "
      ]
     },
     "execution_count": 368,
     "metadata": {},
     "output_type": "execute_result"
    }
   ],
   "source": [
    "top_5_lowest_vote_share_candidates = df.nsmallest(5, \"Vote Share (%)\")\n",
    "top_5_lowest_vote_share_candidates"
   ]
  },
  {
   "cell_type": "code",
   "execution_count": 493,
   "id": "3f1217eb",
   "metadata": {},
   "outputs": [
    {
     "data": {
      "text/html": [
       "<div>\n",
       "<style scoped>\n",
       "    .dataframe tbody tr th:only-of-type {\n",
       "        vertical-align: middle;\n",
       "    }\n",
       "\n",
       "    .dataframe tbody tr th {\n",
       "        vertical-align: top;\n",
       "    }\n",
       "\n",
       "    .dataframe thead th {\n",
       "        text-align: right;\n",
       "    }\n",
       "</style>\n",
       "<table border=\"1\" class=\"dataframe\">\n",
       "  <thead>\n",
       "    <tr style=\"text-align: right;\">\n",
       "      <th></th>\n",
       "      <th>AC No</th>\n",
       "      <th>AC Name</th>\n",
       "      <th>Sl no</th>\n",
       "      <th>Candidate</th>\n",
       "      <th>Party</th>\n",
       "      <th>EVM Votes</th>\n",
       "      <th>Postal Votes</th>\n",
       "      <th>Total Votes</th>\n",
       "      <th>Vote Share (%)</th>\n",
       "    </tr>\n",
       "  </thead>\n",
       "  <tbody>\n",
       "    <tr>\n",
       "      <th>3143</th>\n",
       "      <td>205</td>\n",
       "      <td>CHINCHWAD</td>\n",
       "      <td>2</td>\n",
       "      <td>JAGTAP SHANKAR PANDURANG</td>\n",
       "      <td>Bharatiya Janata Party</td>\n",
       "      <td>234678</td>\n",
       "      <td>645</td>\n",
       "      <td>235323</td>\n",
       "      <td>60.51</td>\n",
       "    </tr>\n",
       "    <tr>\n",
       "      <th>3182</th>\n",
       "      <td>207</td>\n",
       "      <td>BHOSARI</td>\n",
       "      <td>3</td>\n",
       "      <td>MAHESH (DADA) KISAN LANDGE</td>\n",
       "      <td>Bharatiya Janata Party</td>\n",
       "      <td>213159</td>\n",
       "      <td>465</td>\n",
       "      <td>213624</td>\n",
       "      <td>56.91</td>\n",
       "    </tr>\n",
       "    <tr>\n",
       "      <th>3617</th>\n",
       "      <td>233</td>\n",
       "      <td>PARLI</td>\n",
       "      <td>1</td>\n",
       "      <td>DHANANJAY PANDITRAO MUNDE</td>\n",
       "      <td>Nationalist Congress Party</td>\n",
       "      <td>193355</td>\n",
       "      <td>1534</td>\n",
       "      <td>194889</td>\n",
       "      <td>75.97</td>\n",
       "    </tr>\n",
       "    <tr>\n",
       "      <th>3037</th>\n",
       "      <td>198</td>\n",
       "      <td>SHIRUR</td>\n",
       "      <td>3</td>\n",
       "      <td>DNYANESHWAR  ALIAS  MAULI  ABA  KATKE</td>\n",
       "      <td>Nationalist Congress Party</td>\n",
       "      <td>191642</td>\n",
       "      <td>639</td>\n",
       "      <td>192281</td>\n",
       "      <td>59.88</td>\n",
       "    </tr>\n",
       "    <tr>\n",
       "      <th>3135</th>\n",
       "      <td>204</td>\n",
       "      <td>MAVAL</td>\n",
       "      <td>1</td>\n",
       "      <td>SUNIL SHANKARRAO SHELKE</td>\n",
       "      <td>Nationalist Congress Party</td>\n",
       "      <td>190731</td>\n",
       "      <td>524</td>\n",
       "      <td>191255</td>\n",
       "      <td>68.53</td>\n",
       "    </tr>\n",
       "  </tbody>\n",
       "</table>\n",
       "</div>"
      ],
      "text/plain": [
       "      AC No    AC Name  Sl no                              Candidate  \\\n",
       "3143    205  CHINCHWAD      2               JAGTAP SHANKAR PANDURANG   \n",
       "3182    207    BHOSARI      3             MAHESH (DADA) KISAN LANDGE   \n",
       "3617    233      PARLI      1              DHANANJAY PANDITRAO MUNDE   \n",
       "3037    198     SHIRUR      3  DNYANESHWAR  ALIAS  MAULI  ABA  KATKE   \n",
       "3135    204      MAVAL      1                SUNIL SHANKARRAO SHELKE   \n",
       "\n",
       "                           Party  EVM Votes  Postal Votes  Total Votes  \\\n",
       "3143      Bharatiya Janata Party     234678           645       235323   \n",
       "3182      Bharatiya Janata Party     213159           465       213624   \n",
       "3617  Nationalist Congress Party     193355          1534       194889   \n",
       "3037  Nationalist Congress Party     191642           639       192281   \n",
       "3135  Nationalist Congress Party     190731           524       191255   \n",
       "\n",
       "      Vote Share (%)  \n",
       "3143           60.51  \n",
       "3182           56.91  \n",
       "3617           75.97  \n",
       "3037           59.88  \n",
       "3135           68.53  "
      ]
     },
     "execution_count": 493,
     "metadata": {},
     "output_type": "execute_result"
    }
   ],
   "source": [
    "top_5_lagest_total_vote_candidates = df.nlargest(5, \"Total Votes\")\n",
    "top_5_lagest_total_vote_candidates"
   ]
  },
  {
   "cell_type": "markdown",
   "id": "f426fa86",
   "metadata": {},
   "source": [
    "**Find top 5 NOTA Constituencies**"
   ]
  },
  {
   "cell_type": "code",
   "execution_count": 492,
   "id": "2d4db3c6",
   "metadata": {},
   "outputs": [
    {
     "data": {
      "text/html": [
       "<div>\n",
       "<style scoped>\n",
       "    .dataframe tbody tr th:only-of-type {\n",
       "        vertical-align: middle;\n",
       "    }\n",
       "\n",
       "    .dataframe tbody tr th {\n",
       "        vertical-align: top;\n",
       "    }\n",
       "\n",
       "    .dataframe thead th {\n",
       "        text-align: right;\n",
       "    }\n",
       "</style>\n",
       "<table border=\"1\" class=\"dataframe\">\n",
       "  <thead>\n",
       "    <tr style=\"text-align: right;\">\n",
       "      <th></th>\n",
       "      <th>AC No</th>\n",
       "      <th>AC Name</th>\n",
       "      <th>Sl no</th>\n",
       "      <th>Candidate</th>\n",
       "      <th>Party</th>\n",
       "      <th>EVM Votes</th>\n",
       "      <th>Postal Votes</th>\n",
       "      <th>Total Votes</th>\n",
       "      <th>Vote Share (%)</th>\n",
       "    </tr>\n",
       "  </thead>\n",
       "  <tbody>\n",
       "    <tr>\n",
       "      <th>68</th>\n",
       "      <td>69.0</td>\n",
       "      <td>AHERI</td>\n",
       "      <td>13.0</td>\n",
       "      <td>NOTA</td>\n",
       "      <td>None of the Above</td>\n",
       "      <td>5813.0</td>\n",
       "      <td>12.0</td>\n",
       "      <td>5825.0</td>\n",
       "      <td>3.13</td>\n",
       "    </tr>\n",
       "    <tr>\n",
       "      <th>171</th>\n",
       "      <td>172.0</td>\n",
       "      <td>ANUSHAKTI NAGAR</td>\n",
       "      <td>10.0</td>\n",
       "      <td>NOTA</td>\n",
       "      <td>None of the Above</td>\n",
       "      <td>3826.0</td>\n",
       "      <td>58.0</td>\n",
       "      <td>3884.0</td>\n",
       "      <td>2.66</td>\n",
       "    </tr>\n",
       "    <tr>\n",
       "      <th>134</th>\n",
       "      <td>135.0</td>\n",
       "      <td>SHAHAPUR</td>\n",
       "      <td>10.0</td>\n",
       "      <td>NOTA</td>\n",
       "      <td>None of the Above</td>\n",
       "      <td>4844.0</td>\n",
       "      <td>28.0</td>\n",
       "      <td>4872.0</td>\n",
       "      <td>2.36</td>\n",
       "    </tr>\n",
       "    <tr>\n",
       "      <th>127</th>\n",
       "      <td>128.0</td>\n",
       "      <td>DAHANU</td>\n",
       "      <td>9.0</td>\n",
       "      <td>NOTA</td>\n",
       "      <td>None of the Above</td>\n",
       "      <td>5104.0</td>\n",
       "      <td>16.0</td>\n",
       "      <td>5120.0</td>\n",
       "      <td>2.31</td>\n",
       "    </tr>\n",
       "    <tr>\n",
       "      <th>0</th>\n",
       "      <td>1.0</td>\n",
       "      <td>AKKALKUWA</td>\n",
       "      <td>8.0</td>\n",
       "      <td>NOTA</td>\n",
       "      <td>None of the Above</td>\n",
       "      <td>5066.0</td>\n",
       "      <td>5.0</td>\n",
       "      <td>5071.0</td>\n",
       "      <td>2.20</td>\n",
       "    </tr>\n",
       "  </tbody>\n",
       "</table>\n",
       "</div>"
      ],
      "text/plain": [
       "     AC No          AC Name  Sl no Candidate              Party  EVM Votes  \\\n",
       "68    69.0            AHERI   13.0      NOTA  None of the Above     5813.0   \n",
       "171  172.0  ANUSHAKTI NAGAR   10.0      NOTA  None of the Above     3826.0   \n",
       "134  135.0         SHAHAPUR   10.0      NOTA  None of the Above     4844.0   \n",
       "127  128.0           DAHANU    9.0      NOTA  None of the Above     5104.0   \n",
       "0      1.0        AKKALKUWA    8.0      NOTA  None of the Above     5066.0   \n",
       "\n",
       "     Postal Votes  Total Votes  Vote Share (%)  \n",
       "68           12.0       5825.0            3.13  \n",
       "171          58.0       3884.0            2.66  \n",
       "134          28.0       4872.0            2.36  \n",
       "127          16.0       5120.0            2.31  \n",
       "0             5.0       5071.0            2.20  "
      ]
     },
     "execution_count": 492,
     "metadata": {},
     "output_type": "execute_result"
    }
   ],
   "source": [
    "nota_df_new = pd.DataFrame()\n",
    "for index, row in df.iterrows():\n",
    "    new_df = df.loc[df[\"AC No\"] == index+1]\n",
    "    if new_df[\"Vote Share (%)\"].notna().any():  # Checks if there is any non-NaN value\n",
    "        nota_index = (new_df[\"Candidate\"] == \"NOTA\").idxmax()\n",
    "        nota_df = df.loc[nota_index]\n",
    "        nota_df_new = nota_df_new.append(nota_df, ignore_index=True)\n",
    "\n",
    "top_5_nota_constituencies = nota_df_new.nlargest(5, \"Vote Share (%)\")\n",
    "top_5_nota_constituencies"
   ]
  },
  {
   "cell_type": "code",
   "execution_count": null,
   "id": "a82a9130",
   "metadata": {},
   "outputs": [],
   "source": []
  }
 ],
 "metadata": {
  "kernelspec": {
   "display_name": "Python 3 (ipykernel)",
   "language": "python",
   "name": "python3"
  },
  "language_info": {
   "codemirror_mode": {
    "name": "ipython",
    "version": 3
   },
   "file_extension": ".py",
   "mimetype": "text/x-python",
   "name": "python",
   "nbconvert_exporter": "python",
   "pygments_lexer": "ipython3",
   "version": "3.7.7"
  }
 },
 "nbformat": 4,
 "nbformat_minor": 5
}
